{
 "cells": [
  {
   "cell_type": "markdown",
   "id": "af930af4",
   "metadata": {},
   "source": [
    "Conditional statements in Python"
   ]
  },
  {
   "cell_type": "code",
   "execution_count": 3,
   "id": "2e7bb42d",
   "metadata": {},
   "outputs": [
    {
     "name": "stdout",
     "output_type": "stream",
     "text": [
      "Rain coat is necessary\n",
      "Caution\n",
      "Sandal is necessary\n"
     ]
    }
   ],
   "source": [
    "raining = True\n",
    "Muddy = True\n",
    "\n",
    "if raining == True:\n",
    "    print(\"Rain coat is necessary\")\n",
    "    print(\"Caution\")\n",
    "    if Muddy ==True:\n",
    "        print(\"Sandal is necessary\")\n",
    "    else:\n",
    "        \"Bring Sneakers\"\n",
    "else:\n",
    "    print(\"Go without a rain coat\")\n",
    "    print(\"This is a sunny day\")"
   ]
  },
  {
   "cell_type": "code",
   "execution_count": 6,
   "id": "3a0e1c3d",
   "metadata": {},
   "outputs": [
    {
     "name": "stdout",
     "output_type": "stream",
     "text": [
      "ghurte jabo\n"
     ]
    }
   ],
   "source": [
    "taka = 1000\n",
    "\n",
    "raining = False\n",
    "\n",
    "## 500 er beshi hole ghurte jabo and jodi brishti  na hoi\n",
    "## 400 er beshi hole bashai order korbo \n",
    "## 300 er beshi hole food court e jabo\n",
    "## er cheye kom thakle savings\n",
    "\n",
    "if (taka > 500) and (raining == False):\n",
    "    print(\"ghurte jabo\")\n",
    "# elif taka > 400:\n",
    "#     print(\"Bashai order korbo\")\n",
    "# elif taka>300:\n",
    "#     print(\"Food court e jabo\")\n",
    "else:\n",
    "    print(\"Taka ta save korbo\")"
   ]
  },
  {
   "cell_type": "code",
   "execution_count": 11,
   "id": "68dec824",
   "metadata": {},
   "outputs": [
    {
     "name": "stdout",
     "output_type": "stream",
     "text": [
      "0 Hello world\n",
      "0 1\n",
      "0 2\n",
      "0 3\n",
      "0 4\n",
      "1 Hello world\n",
      "1 1\n",
      "1 2\n",
      "1 3\n",
      "1 4\n",
      "2 Hello world\n",
      "2 1\n",
      "2 2\n",
      "2 3\n",
      "2 4\n",
      "3 Hello world\n",
      "3 1\n",
      "3 2\n",
      "3 3\n",
      "3 4\n",
      "4 Hello world\n",
      "4 1\n",
      "4 2\n",
      "4 3\n",
      "4 4\n",
      "5 Hello world\n",
      "5 1\n",
      "5 2\n",
      "5 3\n",
      "5 4\n",
      "6 Hello world\n",
      "6 1\n",
      "6 2\n",
      "6 3\n",
      "6 4\n",
      "7 Hello world\n",
      "7 1\n",
      "7 2\n",
      "7 3\n",
      "7 4\n",
      "8 Hello world\n",
      "8 1\n",
      "8 2\n",
      "8 3\n",
      "8 4\n",
      "9 Hello world\n",
      "9 1\n",
      "9 2\n",
      "9 3\n",
      "9 4\n"
     ]
    }
   ],
   "source": [
    "#For Loop\n",
    "\n",
    "for i in range(10):\n",
    "    print(i,\"Hello world\")\n",
    "    for j in range(1,5):\n",
    "        print(i,j)\n",
    "\n",
    "# list(range(10))\n",
    "\n"
   ]
  },
  {
   "cell_type": "code",
   "execution_count": 14,
   "id": "22b6d3ce",
   "metadata": {},
   "outputs": [
    {
     "name": "stdout",
     "output_type": "stream",
     "text": [
      "1 hello world\n",
      "2 hello world\n",
      "3 hello world\n",
      "4 hello world\n",
      "5 hello world\n",
      "6 hello world\n",
      "7 hello world\n",
      "8 hello world\n",
      "9 hello world\n",
      "10\n"
     ]
    }
   ],
   "source": [
    "# While Loop\n",
    "\n",
    "count = 1\n",
    "\n",
    "while count < 10:\n",
    "    print(count,\"hello world\")\n",
    "    count = count +1\n",
    "print(count)"
   ]
  },
  {
   "cell_type": "code",
   "execution_count": 18,
   "id": "4c2c89ab",
   "metadata": {},
   "outputs": [
    {
     "name": "stdout",
     "output_type": "stream",
     "text": [
      "1 is processing\n",
      "1 is added to the sum\n",
      "2 is processing\n",
      "3 is processing\n",
      "3 is added to the sum\n",
      "4 is processing\n",
      "5 is processing\n",
      "5 is added to the sum\n",
      "6 is processing\n",
      "7 is processing\n",
      "7 is added to the sum\n",
      "8 is processing\n",
      "9 is processing\n",
      "9 is added to the sum\n",
      "35\n"
     ]
    }
   ],
   "source": [
    "sum = 10\n",
    "\n",
    "for i in range(1,10):\n",
    "    print(i,\"is processing\")\n",
    "    if i % 2 == 0:\n",
    "        continue\n",
    "    sum+=i\n",
    "    print(i,\"is added to the sum\")\n",
    "print(sum)"
   ]
  },
  {
   "cell_type": "code",
   "execution_count": 19,
   "id": "6e983345",
   "metadata": {},
   "outputs": [
    {
     "name": "stdout",
     "output_type": "stream",
     "text": [
      "96\n",
      "97\n",
      "98\n",
      "99\n",
      "100\n"
     ]
    }
   ],
   "source": [
    "accuracy = 95\n",
    "\n",
    "for i in range(20):\n",
    "    accuracy+=1\n",
    "    print(accuracy)\n",
    "    if accuracy ==100:\n",
    "        break"
   ]
  },
  {
   "cell_type": "code",
   "execution_count": null,
   "id": "54ceb326",
   "metadata": {},
   "outputs": [],
   "source": [
    "# changed_or_not = True\n",
    "\n",
    "# while True:\n",
    "#     if changed_or_not ==False and accuracy == 100:\n",
    "#         break\n",
    "#     if(prev > accuracy):\n",
    "#         changed_or_not = False"
   ]
  },
  {
   "cell_type": "code",
   "execution_count": 23,
   "id": "a967842b",
   "metadata": {},
   "outputs": [
    {
     "name": "stdout",
     "output_type": "stream",
     "text": [
      "-3 -1\n"
     ]
    }
   ],
   "source": [
    "inp = input()\n",
    "numbers = inp.split()\n",
    "\n",
    "x = int(numbers[0])\n",
    "y = int(numbers[1])\n",
    "z = int(numbers[2])\n",
    "\n",
    "min = x\n",
    "max = x\n",
    "\n",
    "if y < min:\n",
    "    min = y\n",
    "if z < min:\n",
    "    min = z\n",
    "\n",
    "# max\n",
    "\n",
    "if y > max:\n",
    "    max = y\n",
    "if z > max:\n",
    "    max = z\n",
    "\n",
    "print(min,max)\n",
    "\n",
    "\n"
   ]
  },
  {
   "cell_type": "code",
   "execution_count": null,
   "id": "f12f793f",
   "metadata": {},
   "outputs": [
    {
     "name": "stdout",
     "output_type": "stream",
     "text": [
      "Even: 3\n",
      "Odd: 2\n",
      "Positive: 2\n",
      "Positive: 3\n"
     ]
    }
   ],
   "source": [
    "# Even, Odd , Positive and Negative\n",
    "\n",
    "n = int(input())\n",
    "\n",
    "inp = input()\n",
    "numbers = inp.split()\n",
    "\n",
    "Even = 0\n",
    "Odd = 0 \n",
    "Positive = 0\n",
    "Negative = 0\n",
    "\n",
    "for i in range(n):\n",
    "    if int(numbers[i]) >0:\n",
    "        Positive+=1\n",
    "    elif int(numbers[i]) < 0:\n",
    "        Negative+=1\n",
    "    if (int(numbers[i]) % 2) == 0:\n",
    "        Even+=1\n",
    "    else:\n",
    "        Odd+=1\n",
    "\n",
    "print(f\"Even: {Even}\")\n",
    "print(f\"Odd: {Odd}\")\n",
    "print(f\"Positive: {Positive}\")\n",
    "print(f\"Negative: {Negative}\")"
   ]
  },
  {
   "cell_type": "code",
   "execution_count": null,
   "id": "49d0c6ec",
   "metadata": {},
   "outputs": [
    {
     "name": "stdout",
     "output_type": "stream",
     "text": [
      "2 4 3 2 4 3 4 "
     ]
    }
   ],
   "source": [
    "# Given a number N. Print the digits of that number from right to left separated by space\n",
    "\n",
    "t = int(input())\n",
    "\n",
    "for i in range(t):\n",
    "\n",
    "    number = int(input())\n",
    "    if number == 0 :\n",
    "        print(0)\n",
    "        continue\n",
    "    while number > 0:\n",
    "        print(number%10,end=\" \")\n",
    "        number //= 10\n",
    "    print()\n",
    "\n",
    "\n"
   ]
  },
  {
   "cell_type": "code",
   "execution_count": 8,
   "id": "d31ae008",
   "metadata": {},
   "outputs": [
    {
     "name": "stdout",
     "output_type": "stream",
     "text": [
      "A\n"
     ]
    }
   ],
   "source": [
    "x = 5\n",
    "if x > 3:\n",
    "    print(\"A\")\n",
    "elif x > 1:\n",
    "    print(\"B\")\n",
    "else:\n",
    "    print(\"C\")"
   ]
  },
  {
   "cell_type": "code",
   "execution_count": 9,
   "id": "d375526f",
   "metadata": {},
   "outputs": [
    {
     "name": "stdout",
     "output_type": "stream",
     "text": [
      "Done\n"
     ]
    }
   ],
   "source": [
    "i = 0\n",
    "while i < 3:\n",
    "    i +=1\n",
    "    if i == 2:\n",
    "        break\n",
    "print(\"Done\")"
   ]
  },
  {
   "cell_type": "code",
   "execution_count": 10,
   "id": "48408138",
   "metadata": {},
   "outputs": [
    {
     "name": "stdout",
     "output_type": "stream",
     "text": [
      "0 0\n",
      "1 0\n"
     ]
    }
   ],
   "source": [
    "for i in range(2):\n",
    "    for j in range(3):\n",
    "        if j == 1:\n",
    "            break\n",
    "        print(i,j)"
   ]
  },
  {
   "cell_type": "code",
   "execution_count": 11,
   "id": "9f6cd119",
   "metadata": {},
   "outputs": [
    {
     "name": "stdout",
     "output_type": "stream",
     "text": [
      "0\n"
     ]
    }
   ],
   "source": [
    "for i in range(3):\n",
    "    if i == 1:\n",
    "        break\n",
    "    print(i)"
   ]
  },
  {
   "cell_type": "code",
   "execution_count": 12,
   "id": "9ed7aa8e",
   "metadata": {},
   "outputs": [
    {
     "name": "stdout",
     "output_type": "stream",
     "text": [
      "01"
     ]
    }
   ],
   "source": [
    "for i in range(5):\n",
    "    if i == 2:\n",
    "        break\n",
    "    print(i,end=\"\")"
   ]
  },
  {
   "cell_type": "code",
   "execution_count": 13,
   "id": "55c15749",
   "metadata": {},
   "outputs": [
    {
     "name": "stdout",
     "output_type": "stream",
     "text": [
      "2\n"
     ]
    }
   ],
   "source": [
    "count = 0\n",
    "for n in [1, 2, 3, 4, 5]:\n",
    "    if n%2 !=0:\n",
    "        continue\n",
    "    count +=1\n",
    "print(count)"
   ]
  },
  {
   "cell_type": "code",
   "execution_count": 15,
   "id": "ffe63480",
   "metadata": {},
   "outputs": [
    {
     "name": "stdout",
     "output_type": "stream",
     "text": [
      "2\n"
     ]
    }
   ],
   "source": [
    "s = 0\n",
    "for i in range (1,5):\n",
    "    if i % 2 ==0:\n",
    "        s+=i\n",
    "    else:\n",
    "        s -=i\n",
    "print(s)"
   ]
  },
  {
   "cell_type": "code",
   "execution_count": null,
   "id": "d8a09367",
   "metadata": {},
   "outputs": [
    {
     "name": "stdout",
     "output_type": "stream",
     "text": [
      "531"
     ]
    }
   ],
   "source": [
    "for i in range (5,0,-1):\n",
    "    if i % 2 ==0:\n",
    "        continue\n",
    "    if i == 3:\n",
    "        break\n",
    "    print(i,end=\"\")"
   ]
  }
 ],
 "metadata": {
  "kernelspec": {
   "display_name": "room",
   "language": "python",
   "name": "python3"
  },
  "language_info": {
   "codemirror_mode": {
    "name": "ipython",
    "version": 3
   },
   "file_extension": ".py",
   "mimetype": "text/x-python",
   "name": "python",
   "nbconvert_exporter": "python",
   "pygments_lexer": "ipython3",
   "version": "3.12.3"
  }
 },
 "nbformat": 4,
 "nbformat_minor": 5
}
