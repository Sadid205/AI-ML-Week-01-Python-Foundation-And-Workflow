{
 "cells": [
  {
   "cell_type": "code",
   "execution_count": 12,
   "id": "311d4525-cca4-4c74-b395-b13a85ca7579",
   "metadata": {},
   "outputs": [
    {
     "name": "stdin",
     "output_type": "stream",
     "text": [
      " 100 150 120 90\n"
     ]
    },
    {
     "name": "stdout",
     "output_type": "stream",
     "text": [
      "4\n",
      "115\n",
      "Normal Image\n"
     ]
    }
   ],
   "source": [
    "inpt = input().split()\n",
    "sum = 0\n",
    "for i in inpt:\n",
    "    sum+=int(i)\n",
    "avg = sum//len(inpt);\n",
    "\n",
    "if avg < 85:\n",
    "    print(\"Dark Image\")\n",
    "elif avg <= 170:\n",
    "    print(\"Normal Image\")\n",
    "else:\n",
    "    print(\"Bright Image\")\n"
   ]
  }
 ],
 "metadata": {
  "kernelspec": {
   "display_name": "Python [conda env:base] *",
   "language": "python",
   "name": "conda-base-py"
  },
  "language_info": {
   "codemirror_mode": {
    "name": "ipython",
    "version": 3
   },
   "file_extension": ".py",
   "mimetype": "text/x-python",
   "name": "python",
   "nbconvert_exporter": "python",
   "pygments_lexer": "ipython3",
   "version": "3.13.5"
  }
 },
 "nbformat": 4,
 "nbformat_minor": 5
}
