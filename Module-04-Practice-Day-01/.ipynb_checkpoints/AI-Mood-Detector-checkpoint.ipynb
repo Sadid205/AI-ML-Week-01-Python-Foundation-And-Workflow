{
 "cells": [
  {
   "cell_type": "code",
   "execution_count": 5,
   "id": "33f0b036-29bd-45d1-ad8d-badea9f6adab",
   "metadata": {},
   "outputs": [
    {
     "name": "stdin",
     "output_type": "stream",
     "text": [
      " fs\n"
     ]
    },
    {
     "name": "stdout",
     "output_type": "stream",
     "text": [
      "Nutral Mood\n"
     ]
    }
   ],
   "source": [
    "inpt = input().split()\n",
    "if 'happy' in inpt or 'joy' in inpt or 'smile' in inpt:\n",
    "    print(\"Happy Mood\")\n",
    "elif 'sad' in inpt or 'cry' in  inpt or 'angry' in inpt:\n",
    "    print(\"Sad Mood\")\n",
    "else:\n",
    "    print(\"Neutral Mood\")\n",
    "    "
   ]
  }
 ],
 "metadata": {
  "kernelspec": {
   "display_name": "Python [conda env:base] *",
   "language": "python",
   "name": "conda-base-py"
  },
  "language_info": {
   "codemirror_mode": {
    "name": "ipython",
    "version": 3
   },
   "file_extension": ".py",
   "mimetype": "text/x-python",
   "name": "python",
   "nbconvert_exporter": "python",
   "pygments_lexer": "ipython3",
   "version": "3.13.5"
  }
 },
 "nbformat": 4,
 "nbformat_minor": 5
}
