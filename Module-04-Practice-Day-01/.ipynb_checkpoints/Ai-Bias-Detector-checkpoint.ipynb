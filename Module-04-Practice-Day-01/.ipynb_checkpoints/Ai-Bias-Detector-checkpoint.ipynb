{
 "cells": [
  {
   "cell_type": "code",
   "execution_count": 10,
   "id": "bd6a7e68-9f57-4008-a43d-c70230eba181",
   "metadata": {},
   "outputs": [
    {
     "ename": "SyntaxError",
     "evalue": "invalid syntax (1512487688.py, line 11)",
     "output_type": "error",
     "traceback": [
      "\u001b[0;36m  Cell \u001b[0;32mIn[10], line 11\u001b[0;36m\u001b[0m\n\u001b[0;31m    if (parcentage_a > 70 or percentage_b >70:\u001b[0m\n\u001b[0m                                             ^\u001b[0m\n\u001b[0;31mSyntaxError\u001b[0m\u001b[0;31m:\u001b[0m invalid syntax\n"
     ]
    }
   ],
   "source": [
    "inp = input().split()\n",
    "a=0\n",
    "b=0\n",
    "for i in inp:\n",
    "    if inp[i]==\"A\":\n",
    "        a=a+1 \n",
    "    else:\n",
    "        b=b+1\n",
    "parcentage_a = (a/b)*100  if b!=0 else 100\n",
    "parcentage_b = (b/a)*100  if a!=0 else 100\n",
    "if (parcentage_a > 70 or percentage_b >70:\n",
    "    print(\"Biased Model\")\n",
    "else:\n",
    "    print(\"Fair Model\")\n",
    "print(percentage_a)\n",
    "print(percentage_b)\n",
    "            "
   ]
  },
  {
   "cell_type": "code",
   "execution_count": null,
   "id": "a694668f-eeb0-4839-8147-382e3a75f8c7",
   "metadata": {},
   "outputs": [],
   "source": []
  },
  {
   "cell_type": "code",
   "execution_count": null,
   "id": "4bbc43e6-3994-4306-94f2-97bb4c5edf0b",
   "metadata": {},
   "outputs": [],
   "source": []
  },
  {
   "cell_type": "code",
   "execution_count": null,
   "id": "dde6f819-a462-4f46-bb34-aabf6049ffc1",
   "metadata": {},
   "outputs": [],
   "source": []
  }
 ],
 "metadata": {
  "kernelspec": {
   "display_name": "Python [conda env:base] *",
   "language": "python",
   "name": "conda-base-py"
  },
  "language_info": {
   "codemirror_mode": {
    "name": "ipython",
    "version": 3
   },
   "file_extension": ".py",
   "mimetype": "text/x-python",
   "name": "python",
   "nbconvert_exporter": "python",
   "pygments_lexer": "ipython3",
   "version": "3.13.5"
  }
 },
 "nbformat": 4,
 "nbformat_minor": 5
}
