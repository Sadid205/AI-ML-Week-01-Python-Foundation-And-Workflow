{
 "cells": [
  {
   "cell_type": "code",
   "execution_count": null,
   "id": "8c598c64-ce9b-441e-a614-3b5f34e53824",
   "metadata": {},
   "outputs": [],
   "source": [
    "inp = input().split()\n",
    "keywords = [\"ai\",\"data\",\"learn\",\"train\",\"nural\"]\n",
    "total = 0\n",
    "\n",
    "for word in keywords:\n",
    "    total += inp.count(word)\n",
    "\n",
    "if total:\n",
    "    print(\"AI Detected\")\n",
    "else:\n",
    "    print(\"Not AI Related\")\n"
   ]
  },
  {
   "cell_type": "code",
   "execution_count": null,
   "id": "ad81b8dc-dc3b-4122-9ee4-10b68f912cc1",
   "metadata": {},
   "outputs": [],
   "source": []
  },
  {
   "cell_type": "code",
   "execution_count": null,
   "id": "86d6c6a3-ba8f-46de-82de-53a836f7e666",
   "metadata": {},
   "outputs": [],
   "source": []
  },
  {
   "cell_type": "code",
   "execution_count": null,
   "id": "71fec132-f317-490e-880c-2918238ac7e4",
   "metadata": {},
   "outputs": [],
   "source": []
  }
 ],
 "metadata": {
  "kernelspec": {
   "display_name": "Python [conda env:base] *",
   "language": "python",
   "name": "conda-base-py"
  },
  "language_info": {
   "codemirror_mode": {
    "name": "ipython",
    "version": 3
   },
   "file_extension": ".py",
   "mimetype": "text/x-python",
   "name": "python",
   "nbconvert_exporter": "python",
   "pygments_lexer": "ipython3",
   "version": "3.13.5"
  }
 },
 "nbformat": 4,
 "nbformat_minor": 5
}
