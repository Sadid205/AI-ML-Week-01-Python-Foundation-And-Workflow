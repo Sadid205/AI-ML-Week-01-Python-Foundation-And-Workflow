{
 "cells": [
  {
   "cell_type": "code",
   "execution_count": 3,
   "id": "bb549d47-68d7-4c49-a272-43787f87942f",
   "metadata": {},
   "outputs": [
    {
     "name": "stdin",
     "output_type": "stream",
     "text": [
      " 5\n",
      " 0.40\n",
      " 0.45\n",
      " 0.42\n",
      " 0.39\n",
      " 0.41\n",
      " 0.44\n"
     ]
    },
    {
     "name": "stdout",
     "output_type": "stream",
     "text": [
      "PASS\n",
      "2.11\n"
     ]
    }
   ],
   "source": [
    "n =  int(input())\n",
    "t =  float(input())\n",
    "sum = 0.00\n",
    "for i in range(n):\n",
    "    sum+=float(input())\n",
    "if((sum/n) <= t):\n",
    "    print(\"PASS\")\n",
    "else:\n",
    "    print(\"RETRY\")\n",
    "print(sum)"
   ]
  }
 ],
 "metadata": {
  "kernelspec": {
   "display_name": "Python [conda env:base] *",
   "language": "python",
   "name": "conda-base-py"
  },
  "language_info": {
   "codemirror_mode": {
    "name": "ipython",
    "version": 3
   },
   "file_extension": ".py",
   "mimetype": "text/x-python",
   "name": "python",
   "nbconvert_exporter": "python",
   "pygments_lexer": "ipython3",
   "version": "3.13.5"
  }
 },
 "nbformat": 4,
 "nbformat_minor": 5
}
