{
 "cells": [
  {
   "cell_type": "code",
   "execution_count": 2,
   "id": "5a59e3c3-0718-4859-9d64-979de97e514e",
   "metadata": {},
   "outputs": [
    {
     "name": "stdin",
     "output_type": "stream",
     "text": [
      " 40 50\n"
     ]
    },
    {
     "name": "stdout",
     "output_type": "stream",
     "text": [
      "OFF\n"
     ]
    }
   ],
   "source": [
    "inp = input()\n",
    "splited_input = inp.split()\n",
    "brightness  =  float(splited_input[0])\n",
    "threshold  = float(splited_input[1])\n",
    "\n",
    "if(brightness >= threshold):\n",
    "    print(\"ON\")\n",
    "else:\n",
    "    print(\"OFF\")\n"
   ]
  },
  {
   "cell_type": "code",
   "execution_count": null,
   "id": "fc799518-58e5-4f42-b907-db02d9bc2f9d",
   "metadata": {},
   "outputs": [],
   "source": []
  }
 ],
 "metadata": {
  "kernelspec": {
   "display_name": "Python [conda env:base] *",
   "language": "python",
   "name": "conda-base-py"
  },
  "language_info": {
   "codemirror_mode": {
    "name": "ipython",
    "version": 3
   },
   "file_extension": ".py",
   "mimetype": "text/x-python",
   "name": "python",
   "nbconvert_exporter": "python",
   "pygments_lexer": "ipython3",
   "version": "3.13.5"
  }
 },
 "nbformat": 4,
 "nbformat_minor": 5
}
