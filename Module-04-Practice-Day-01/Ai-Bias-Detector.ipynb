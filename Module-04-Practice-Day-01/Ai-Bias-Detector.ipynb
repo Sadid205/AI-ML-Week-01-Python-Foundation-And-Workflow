{
 "cells": [
  {
   "cell_type": "code",
   "execution_count": 22,
   "id": "bd6a7e68-9f57-4008-a43d-c70230eba181",
   "metadata": {},
   "outputs": [
    {
     "name": "stdin",
     "output_type": "stream",
     "text": [
      " A A A B B A A\n"
     ]
    },
    {
     "name": "stdout",
     "output_type": "stream",
     "text": [
      "Biased Model\n",
      "210.0\n",
      "-210.0\n"
     ]
    }
   ],
   "source": [
    "inp = input().split()\n",
    "a=0\n",
    "b=0\n",
    "for i in inp:\n",
    "    if i==\"A\":\n",
    "        a=a+1 \n",
    "    else:\n",
    "        b=b+1\n",
    "percentage_a = (a/b)*100  if b!=0 else 100\n",
    "percentage_b = (b/a)*100  if a!=0 else 100\n",
    "if ((percentage_b-percentage_a) > 70) or ((percentage_a-percentage_b) >70):\n",
    "    print(\"Biased Model\")\n",
    "else:\n",
    "    print(\"Fair Model\")\n",
    "# print(percentage_a-percentage_b)\n",
    "# print(percentage_b-percentage_a)\n",
    "            "
   ]
  },
  {
   "cell_type": "code",
   "execution_count": null,
   "id": "a694668f-eeb0-4839-8147-382e3a75f8c7",
   "metadata": {},
   "outputs": [],
   "source": []
  },
  {
   "cell_type": "code",
   "execution_count": null,
   "id": "4bbc43e6-3994-4306-94f2-97bb4c5edf0b",
   "metadata": {},
   "outputs": [],
   "source": []
  },
  {
   "cell_type": "code",
   "execution_count": null,
   "id": "dde6f819-a462-4f46-bb34-aabf6049ffc1",
   "metadata": {},
   "outputs": [],
   "source": []
  }
 ],
 "metadata": {
  "kernelspec": {
   "display_name": "Python [conda env:base] *",
   "language": "python",
   "name": "conda-base-py"
  },
  "language_info": {
   "codemirror_mode": {
    "name": "ipython",
    "version": 3
   },
   "file_extension": ".py",
   "mimetype": "text/x-python",
   "name": "python",
   "nbconvert_exporter": "python",
   "pygments_lexer": "ipython3",
   "version": "3.13.5"
  }
 },
 "nbformat": 4,
 "nbformat_minor": 5
}
