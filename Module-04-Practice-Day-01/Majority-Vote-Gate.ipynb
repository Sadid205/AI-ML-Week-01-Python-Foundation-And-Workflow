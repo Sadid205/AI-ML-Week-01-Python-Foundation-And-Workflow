{
 "cells": [
  {
   "cell_type": "code",
   "execution_count": 6,
   "id": "6fdc22e8-6705-47b0-bc99-c73a28c76504",
   "metadata": {},
   "outputs": [
    {
     "name": "stdin",
     "output_type": "stream",
     "text": [
      " 3\n",
      " YES\n",
      " NO\n",
      " NO\n"
     ]
    },
    {
     "name": "stdout",
     "output_type": "stream",
     "text": [
      "REJECT\n"
     ]
    }
   ],
   "source": [
    "t = int(input())\n",
    "y = 0\n",
    "n = 0\n",
    "for i in range(t):\n",
    "    if(input() == \"YES\"):\n",
    "        y+=1\n",
    "    else:\n",
    "        n+=1\n",
    "if y>=n :\n",
    "    print(\"ACCEPT\")\n",
    "else:\n",
    "    print(\"REJECT\")\n",
    "    "
   ]
  },
  {
   "cell_type": "code",
   "execution_count": null,
   "id": "94090339-4e2c-419c-9db0-ae5b5489c2f3",
   "metadata": {},
   "outputs": [],
   "source": []
  }
 ],
 "metadata": {
  "kernelspec": {
   "display_name": "Python [conda env:base] *",
   "language": "python",
   "name": "conda-base-py"
  },
  "language_info": {
   "codemirror_mode": {
    "name": "ipython",
    "version": 3
   },
   "file_extension": ".py",
   "mimetype": "text/x-python",
   "name": "python",
   "nbconvert_exporter": "python",
   "pygments_lexer": "ipython3",
   "version": "3.13.5"
  }
 },
 "nbformat": 4,
 "nbformat_minor": 5
}
