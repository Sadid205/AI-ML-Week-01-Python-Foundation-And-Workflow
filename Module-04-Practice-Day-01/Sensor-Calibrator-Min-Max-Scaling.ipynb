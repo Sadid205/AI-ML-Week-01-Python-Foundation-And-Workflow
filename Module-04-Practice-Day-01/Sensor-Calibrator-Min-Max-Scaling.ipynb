{
 "cells": [
  {
   "cell_type": "code",
   "execution_count": 4,
   "id": "1cefaa0e-d2a8-4d3d-93e7-96c6e131a331",
   "metadata": {},
   "outputs": [
    {
     "name": "stdin",
     "output_type": "stream",
     "text": [
      " 0 0 10\n"
     ]
    },
    {
     "name": "stdout",
     "output_type": "stream",
     "text": [
      "0.00\n"
     ]
    }
   ],
   "source": [
    "inp = input().split()\n",
    "x = float(inp[0])\n",
    "min_v = float(inp[1])\n",
    "max_v = float(inp[2])\n",
    "\n",
    "norm = (x - min_v) / (max_v - min_v)\n",
    "\n",
    "print(f\"{norm:.2f}\")\n"
   ]
  },
  {
   "cell_type": "code",
   "execution_count": null,
   "id": "a0434717-7b95-4d44-a4ed-822cbb43b23b",
   "metadata": {},
   "outputs": [],
   "source": []
  }
 ],
 "metadata": {
  "kernelspec": {
   "display_name": "Python [conda env:base] *",
   "language": "python",
   "name": "conda-base-py"
  },
  "language_info": {
   "codemirror_mode": {
    "name": "ipython",
    "version": 3
   },
   "file_extension": ".py",
   "mimetype": "text/x-python",
   "name": "python",
   "nbconvert_exporter": "python",
   "pygments_lexer": "ipython3",
   "version": "3.13.5"
  }
 },
 "nbformat": 4,
 "nbformat_minor": 5
}
