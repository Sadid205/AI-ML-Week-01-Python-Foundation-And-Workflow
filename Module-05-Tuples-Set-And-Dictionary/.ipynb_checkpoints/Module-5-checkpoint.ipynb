{
 "cells": [
  {
   "cell_type": "markdown",
   "id": "2e9cccac-b300-4507-aad4-c77e60b3824c",
   "metadata": {},
   "source": [
    "## Tuples\n"
   ]
  },
  {
   "cell_type": "code",
   "execution_count": 7,
   "id": "5751d196-7351-4891-bc2e-b08c92cfa90a",
   "metadata": {},
   "outputs": [
    {
     "name": "stdout",
     "output_type": "stream",
     "text": [
      "<class 'tuple'> (10.3, 4, 5)\n",
      "(10, 10.5, 'str', True)\n",
      "<class 'tuple'>\n",
      "<class 'tuple'> (10,)\n"
     ]
    }
   ],
   "source": [
    "tup = (10,20,30,40)\n",
    "float_tup = (10.3,4,5)\n",
    "print(type(tup),float_tup)\n",
    "mixed_tup = (10,10.5,\"str\",True)\n",
    "print(mixed_tup)\n",
    "\n",
    "tup1 = (10,)\n",
    "tup2 = tuple([10])\n",
    "print(type(tup2))\n",
    "print(type(tup1),tup1)\n"
   ]
  },
  {
   "cell_type": "code",
   "execution_count": 10,
   "id": "0e754fa1-497e-49c7-b739-88507b4a062e",
   "metadata": {},
   "outputs": [
    {
     "name": "stdout",
     "output_type": "stream",
     "text": [
      "56\n",
      "(10, 30, 49)\n"
     ]
    }
   ],
   "source": [
    "# Access\n",
    "tup = (10,30,49,56,3.5,\"str\",False)\n",
    "print(tup[3])\n",
    "\n",
    "# slicing\n",
    "new_tup = tup[0:3]\n",
    "print(new_tup)"
   ]
  },
  {
   "cell_type": "code",
   "execution_count": 13,
   "id": "9c270dcb-4d8f-42ec-9eda-8673e854469d",
   "metadata": {},
   "outputs": [
    {
     "name": "stdout",
     "output_type": "stream",
     "text": [
      "[10, 20, 300, 440, 30]\n",
      "(10, 20, 30, 40)\n"
     ]
    }
   ],
   "source": [
    "# immutatility\n",
    "lst = [10,20,340,440]\n",
    "lst.append(30)\n",
    "lst[2] = 300\n",
    "print(lst)\n",
    "\n",
    "#immutable\n",
    "tup = (10,20,30,40)\n",
    "# tup[1] = 1200\n",
    "print(tup)\n"
   ]
  },
  {
   "cell_type": "code",
   "execution_count": 18,
   "id": "6ba9f4cf-f113-46d7-a3aa-0ecc3e6e9822",
   "metadata": {},
   "outputs": [
    {
     "name": "stdout",
     "output_type": "stream",
     "text": [
      "1\n",
      "1\n"
     ]
    }
   ],
   "source": [
    "tup = (10,20,30,40)\n",
    "print(tup.count(10))\n",
    "\n",
    "print(tup.index(20))"
   ]
  },
  {
   "cell_type": "markdown",
   "id": "cafc4ba6-2321-4430-a0cd-098663f5a377",
   "metadata": {},
   "source": [
    "## SET"
   ]
  },
  {
   "cell_type": "code",
   "execution_count": 19,
   "id": "cd32dd22-fa2a-4471-a35c-9e77cea7f0e0",
   "metadata": {},
   "outputs": [
    {
     "name": "stdout",
     "output_type": "stream",
     "text": [
      "<class 'set'> {1, 2, 3}\n"
     ]
    }
   ],
   "source": [
    "A = {1,2,3}\n",
    "print(type(A),A)"
   ]
  },
  {
   "cell_type": "code",
   "execution_count": 22,
   "id": "02386423-ad70-4660-86b1-610745894196",
   "metadata": {},
   "outputs": [
    {
     "name": "stdout",
     "output_type": "stream",
     "text": [
      "<class 'list'>\n",
      "<class 'tuple'>\n",
      "<class 'set'>\n"
     ]
    }
   ],
   "source": [
    "## Empty structure\n",
    "\n",
    "B = []\n",
    "print(type(B))\n",
    "C = ()\n",
    "print(type(C))\n",
    "S = set()\n",
    "print(type(S))\n",
    "\n"
   ]
  },
  {
   "cell_type": "code",
   "execution_count": 25,
   "id": "aa146e9d-91c4-4f56-b1a3-e5d9ffd5401b",
   "metadata": {},
   "outputs": [
    {
     "name": "stdout",
     "output_type": "stream",
     "text": [
      "3 is present\n",
      "738\n"
     ]
    }
   ],
   "source": [
    "S = {1,2,3,4,55,673,2,3}\n",
    "if ( 3 in S):\n",
    "    print(\"3 is present\")\n",
    "else:\n",
    "    print(\"did not present\")\n",
    "    \n",
    "sum = 0\n",
    "for elements in S:\n",
    "    sum+=elements\n",
    "print(sum)\n",
    "\n"
   ]
  },
  {
   "cell_type": "code",
   "execution_count": 31,
   "id": "ad220257-574f-4f76-b6b8-eabae0f6e01c",
   "metadata": {},
   "outputs": [
    {
     "name": "stdout",
     "output_type": "stream",
     "text": [
      "{1, 2, 3, 4, 5, 6}\n",
      "{1, 2, 3, 4, 6, 129}\n"
     ]
    }
   ],
   "source": [
    "S = {1,2,3,4,5,6,6}\n",
    "print(S)\n",
    "S.add(129)\n",
    "# S.pop()\n",
    "S.remove(5)\n",
    "print(S)"
   ]
  },
  {
   "cell_type": "markdown",
   "id": "f4682a05-2d7b-4d0a-9772-384f0ae2ae1b",
   "metadata": {},
   "source": [
    "## Methods of set"
   ]
  },
  {
   "cell_type": "code",
   "execution_count": 36,
   "id": "de413e20-d93d-4241-a24c-aa75540ba8f6",
   "metadata": {},
   "outputs": [
    {
     "name": "stdout",
     "output_type": "stream",
     "text": [
      "{1, 2, 3, 4}\n",
      "{2, 3}\n",
      "False\n",
      "False\n"
     ]
    }
   ],
   "source": [
    "a = {1,2,3}\n",
    "b = {2,3,4}\n",
    "print(a.union(b))\n",
    "print(a.intersection(b))\n",
    "print(a.isdisjoint(b))\n",
    "print(a.issubset(b))"
   ]
  },
  {
   "cell_type": "markdown",
   "id": "a9d12f55-0915-45fd-bd0a-1db0ee7a81ee",
   "metadata": {},
   "source": [
    "## Dictionaries"
   ]
  },
  {
   "cell_type": "code",
   "execution_count": 38,
   "id": "458f9677-c44c-484e-9d08-7d9d79bc6fa4",
   "metadata": {},
   "outputs": [
    {
     "name": "stdout",
     "output_type": "stream",
     "text": [
      "<class 'dict'>\n",
      "<class 'dict'> {'name': 'Phitron', 'age': 20, 'address': 'Dhaka', 'numbers': [20, 30, 40, 40]}\n"
     ]
    }
   ],
   "source": [
    "# empty\n",
    "dic={}\n",
    "print(type(dic))\n",
    "\n",
    "\n",
    "dic = {\"name\":\"Phitron\",\"age\":20,\"address\":\"Dhaka\",\"numbers\":[20,30,40,40]}\n",
    "\n",
    "print(type(dic),dic)"
   ]
  },
  {
   "cell_type": "code",
   "execution_count": 42,
   "id": "5bb7d0a5-9d2f-458d-b4b5-0b6c5f613b49",
   "metadata": {},
   "outputs": [
    {
     "name": "stdout",
     "output_type": "stream",
     "text": [
      "[20, 30, 40, 40]\n",
      "20\n",
      "{'name': 'Phitron', 'age': 40, 'address': 'Dhaka', 'numbers': [20, 30, 40, 40]}\n"
     ]
    }
   ],
   "source": [
    "# Access \n",
    "# dicxt_name[key]\n",
    "print(dic[\"numbers\"])\n",
    "print(dic.get(\"age\"))\n",
    "dic[\"name\"] = \"Phitron AI/ML\"\n",
    "dic = {\"name\":\"Phitron\",\"age\":40,\"address\":\"Dhaka\",\"numbers\":[20,30,40,40]}\n",
    "\n",
    "print(dic)"
   ]
  },
  {
   "cell_type": "code",
   "execution_count": 43,
   "id": "a6bc0e5f-46b4-4985-bff0-413270d0dc79",
   "metadata": {},
   "outputs": [
    {
     "name": "stdout",
     "output_type": "stream",
     "text": [
      "{'name': 'Phitron', 'age': 40, 'address': 'Dhaka', 'numbers': [20, 30, 40, 40]}\n"
     ]
    }
   ],
   "source": [
    "print(dic)"
   ]
  },
  {
   "cell_type": "code",
   "execution_count": 50,
   "id": "3206ca02-b7bf-40ab-a478-31ea53884d3e",
   "metadata": {},
   "outputs": [
    {
     "name": "stdout",
     "output_type": "stream",
     "text": [
      "30\n",
      "{'name': 'Phitron', 'age': 40, 'address': 'Dhaka', 'numbers': [20, 30, 40, 40], 'math_marks': 30}\n",
      "{'name': 'Phitron', 'age': 40, 'address': 'Dhaka', 'numbers': [20, 30, 40, 40], 'math_marks': 30, 'english_marks': 20}\n"
     ]
    }
   ],
   "source": [
    "# Printing default values\n",
    "\n",
    "print(dic.get(\"math_marks\",0))\n",
    "\n",
    "# Adding a values\n",
    "dic[\"math_marks\"] = 30\n",
    "print(dic)\n",
    "dic.update({\"english_marks\":20})\n",
    "print(dic)"
   ]
  },
  {
   "cell_type": "code",
   "execution_count": 51,
   "id": "f3cffa03-34ea-4089-96ab-98baeff710aa",
   "metadata": {},
   "outputs": [
    {
     "name": "stdout",
     "output_type": "stream",
     "text": [
      "{'name': 'Phitron', 'age': 40, 'address': 'Dhaka', 'numbers': [20, 30, 40, 40], 'english_marks': 20}\n"
     ]
    }
   ],
   "source": [
    "# deleting\n",
    "\n",
    "del dic[\"math_marks\"]\n",
    "print(dic)"
   ]
  },
  {
   "cell_type": "code",
   "execution_count": 52,
   "id": "731eddd2-3b42-4346-8244-1eb7ee1a4312",
   "metadata": {},
   "outputs": [
    {
     "name": "stdout",
     "output_type": "stream",
     "text": [
      "{'name': 'Phitron', 'age': 40, 'address': 'Dhaka', 'numbers': [20, 30, 40, 40], 'english_marks': 20}\n"
     ]
    }
   ],
   "source": [
    "dic_2= dic.copy()\n",
    "print(dic_2)"
   ]
  },
  {
   "cell_type": "code",
   "execution_count": 55,
   "id": "1288af86-a4e9-4998-a17d-7896a12cf7ce",
   "metadata": {},
   "outputs": [
    {
     "name": "stdout",
     "output_type": "stream",
     "text": [
      "{(20, 30): 'a'}\n"
     ]
    }
   ],
   "source": [
    "# testing\n",
    "dic_3 = {(20,30):\"a\"}\n",
    "print(dic_3)"
   ]
  },
  {
   "cell_type": "markdown",
   "id": "90e93efd-8361-4bba-9d05-409c0b176e88",
   "metadata": {},
   "source": [
    "## Iterating Over Dictionary"
   ]
  },
  {
   "cell_type": "code",
   "execution_count": 59,
   "id": "298652f6-142c-4a12-b7b1-f05a4f30ff8e",
   "metadata": {},
   "outputs": [
    {
     "name": "stdout",
     "output_type": "stream",
     "text": [
      "dict_keys(['name', 'age', 'address', 'numbers', 'english_marks', 'math_numbers'])\n",
      "dict_keys(['name', 'age', 'address', 'numbers', 'english_marks', 'math_numbers'])\n",
      "dict_values(['Phitron', 40, 'Dhaka', [20, 30, 40, 40], 20, 40])\n",
      "dict_items([('name', 'Phitron'), ('age', 40), ('address', 'Dhaka'), ('numbers', [20, 30, 40, 40]), ('english_marks', 20), ('math_numbers', 40)])\n"
     ]
    }
   ],
   "source": [
    "keys = dic.keys()\n",
    "print(keys)\n",
    "dic[\"math_numbers\"] = 40\n",
    "print(keys)\n",
    "values = dic.values()\n",
    "print(values)\n",
    "items = dic.items()\n",
    "print(items)"
   ]
  },
  {
   "cell_type": "code",
   "execution_count": 61,
   "id": "dee18506-8e45-479a-a8bb-edb7a8ae20fd",
   "metadata": {},
   "outputs": [
    {
     "name": "stdout",
     "output_type": "stream",
     "text": [
      "name Phitron\n",
      "age 40\n",
      "address Dhaka\n",
      "numbers [20, 30, 40, 40]\n",
      "english_marks 20\n",
      "math_numbers 40\n"
     ]
    }
   ],
   "source": [
    "# iterations\n",
    "for key,value in dic.items():\n",
    "    print(key,value)"
   ]
  },
  {
   "cell_type": "markdown",
   "id": "1c95a737-658b-4feb-a8e5-68f54387f107",
   "metadata": {},
   "source": [
    "## Dictionary comprehention"
   ]
  },
  {
   "cell_type": "code",
   "execution_count": 66,
   "id": "b79e5c5d-232d-4b83-b25c-46316e0a91d5",
   "metadata": {},
   "outputs": [
    {
     "name": "stdout",
     "output_type": "stream",
     "text": [
      "[0, 1, 2, 3, 4, 5, 6, 7, 8, 9]\n"
     ]
    }
   ],
   "source": [
    "print(list(range(10)))"
   ]
  },
  {
   "cell_type": "code",
   "execution_count": 70,
   "id": "4ad2035b-f392-47c7-8f6c-f3a294bfe5e0",
   "metadata": {},
   "outputs": [
    {
     "name": "stdout",
     "output_type": "stream",
     "text": [
      "{0: 0, 2: 4, 4: 16, 6: 36, 8: 64}\n"
     ]
    }
   ],
   "source": [
    "square = {x:x**2 for x in range(10) if x%2==0}\n",
    "print(square)"
   ]
  },
  {
   "cell_type": "code",
   "execution_count": 75,
   "id": "b0b85a21-877c-401e-ab8f-081d0f75672c",
   "metadata": {},
   "outputs": [],
   "source": [
    " # Dhaka: ; Chittagong:  Sylhet:  \n",
    "Co_ordinates = [(23.80, 90.41),(22.34, 91.83),(24.90, 91.87)]\n",
    "Locations = [\"dhaka\",\"chattogram\",\"sylhet\"]\n",
    "exact_location = {co_or:loc for co_or,loc in zip(Co_ordinates,Locations)}"
   ]
  },
  {
   "cell_type": "code",
   "execution_count": 76,
   "id": "4b79ab2e-3ddb-41c2-acb9-979859441abf",
   "metadata": {},
   "outputs": [
    {
     "name": "stdout",
     "output_type": "stream",
     "text": [
      "{(23.8, 90.41): 'dhaka', (22.34, 91.83): 'chattogram', (24.9, 91.87): 'sylhet'}\n"
     ]
    }
   ],
   "source": [
    "print(exact_location)"
   ]
  },
  {
   "cell_type": "code",
   "execution_count": 77,
   "id": "ee0f0e5c-ad9b-4b6d-8bb6-8ce557d60aba",
   "metadata": {},
   "outputs": [
    {
     "name": "stdout",
     "output_type": "stream",
     "text": [
      "[34, 39, 40, 12, 430, 49, 50, 122]\n"
     ]
    }
   ],
   "source": [
    "# Problem solving with in built structres\n",
    "# Given a list of numbers, make a list with unique values.\n",
    "\n",
    "lst = [12,34,122,12,49,40,430,12,49,50,39]\n",
    "unique_values = set(lst) # conversion\n",
    "lst = list(unique_values)\n",
    "print(lst)"
   ]
  },
  {
   "cell_type": "code",
   "execution_count": 85,
   "id": "8e764ff5-824e-4c56-8610-5e67b1c96361",
   "metadata": {},
   "outputs": [
    {
     "name": "stdout",
     "output_type": "stream",
     "text": [
      "{'ai': 8, 'data': 5, 'model': 5, 'train': 3, 'learn': 5}\n",
      "count of ai is 8\n",
      "count of data is 5\n",
      "count of model is 5\n",
      "count of train is 3\n",
      "count of learn is 5\n"
     ]
    }
   ],
   "source": [
    "# 2. Given a string, print the frequency of the words\n",
    "str = \"\"\"ai data model train learn ai data ai model learn ai train data model ai learn data ai model train learn ai data model ai learn\n",
    "\"\"\"\n",
    "words = str.split()\n",
    "count = {}\n",
    "for word in words:\n",
    "    count[word]=count.get(word,0)+1\n",
    "print(count)\n",
    "for k,v in count.items():\n",
    "    print(f\"count of {k} is {v}\")\n",
    "    \n",
    "    \n",
    "# print(words)"
   ]
  },
  {
   "cell_type": "code",
   "execution_count": 86,
   "id": "72d34b99-6147-4564-a563-38451ed1921b",
   "metadata": {},
   "outputs": [
    {
     "name": "stdout",
     "output_type": "stream",
     "text": [
      "dict_keys(['a', 'b'])\n"
     ]
    }
   ],
   "source": [
    "print({'a': 1, 'b': 2}.keys())"
   ]
  },
  {
   "cell_type": "code",
   "execution_count": 100,
   "id": "2e9bec3b-e262-42ea-a6f9-b7498aa236e3",
   "metadata": {},
   "outputs": [
    {
     "name": "stdin",
     "output_type": "stream",
     "text": [
      " fsdrfewrw\n"
     ]
    },
    {
     "name": "stdout",
     "output_type": "stream",
     "text": [
      "d : 1\n",
      "e : 1\n",
      "f : 2\n",
      "r : 2\n",
      "s : 1\n",
      "w : 2\n"
     ]
    }
   ],
   "source": [
    "# Problem solving\n",
    "str = input()\n",
    "cnt = {}\n",
    "for c in str:\n",
    "    cnt[c] = cnt.get(c,0)+1\n",
    "for k in sorted(cnt.keys()):\n",
    "    print(f\"{k} : {cnt[k]}\")\n"
   ]
  },
  {
   "cell_type": "code",
   "execution_count": 120,
   "id": "6ac8d3b7-1a5a-448e-a59c-a6944d7727d0",
   "metadata": {},
   "outputs": [
    {
     "name": "stdin",
     "output_type": "stream",
     "text": [
      " 3 2\n",
      " 1 2 5\n",
      " 2 1\n",
      " 5 4\n"
     ]
    },
    {
     "name": "stdout",
     "output_type": "stream",
     "text": [
      "1\n"
     ]
    }
   ],
   "source": [
    "n,m = map(int,input().split())\n",
    "\n",
    "arr = list(map(int,input().split()))\n",
    "A = set(map(int,input().split()))\n",
    "B = set(map(int,input().split()))\n",
    "happiness = 0\n",
    "for x in arr:\n",
    "    if x in A:\n",
    "        happiness +=1\n",
    "    elif x in B:\n",
    "        happiness -=1\n",
    "print(happiness)"
   ]
  },
  {
   "cell_type": "code",
   "execution_count": 127,
   "id": "8e26d990-cd00-4383-8e31-57b302bf9a49",
   "metadata": {},
   "outputs": [
    {
     "name": "stdin",
     "output_type": "stream",
     "text": [
      " 2\n",
      " 2 3\n"
     ]
    },
    {
     "data": {
      "text/plain": [
       "(2, 3)"
      ]
     },
     "execution_count": 127,
     "metadata": {},
     "output_type": "execute_result"
    }
   ],
   "source": [
    "n = int(input())\n",
    "# tup = tuple(map(int,input().split()))\n",
    "\n",
    "# print(hash(tup))\n",
    "print(hash(tuple([int(i) for i in input().split()])))\n",
    "# tuple([int(i) for i in input().split()])\n"
   ]
  },
  {
   "cell_type": "code",
   "execution_count": null,
   "id": "29fd93fd-fa5a-416c-b444-78cebb9e23b4",
   "metadata": {},
   "outputs": [],
   "source": []
  }
 ],
 "metadata": {
  "kernelspec": {
   "display_name": "Python [conda env:base] *",
   "language": "python",
   "name": "conda-base-py"
  },
  "language_info": {
   "codemirror_mode": {
    "name": "ipython",
    "version": 3
   },
   "file_extension": ".py",
   "mimetype": "text/x-python",
   "name": "python",
   "nbconvert_exporter": "python",
   "pygments_lexer": "ipython3",
   "version": "3.13.5"
  }
 },
 "nbformat": 4,
 "nbformat_minor": 5
}
