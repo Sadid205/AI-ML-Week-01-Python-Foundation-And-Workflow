{
 "cells": [
  {
   "cell_type": "code",
   "execution_count": null,
   "id": "db553fb0",
   "metadata": {},
   "outputs": [],
   "source": [
    "print(\"hello world\")"
   ]
  }
 ],
 "metadata": {
  "kernelspec": {
   "display_name": "room",
   "language": "python",
   "name": "python3"
  },
  "language_info": {
   "name": "python",
   "version": "3.12.3"
  }
 },
 "nbformat": 4,
 "nbformat_minor": 5
}
