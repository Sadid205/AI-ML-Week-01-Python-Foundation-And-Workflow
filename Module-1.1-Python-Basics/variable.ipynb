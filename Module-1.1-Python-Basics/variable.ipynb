{
 "cells": [
  {
   "cell_type": "code",
   "execution_count": null,
   "id": "23c28a9a",
   "metadata": {},
   "outputs": [
    {
     "name": "stdout",
     "output_type": "stream",
     "text": [
      "42343423\n"
     ]
    }
   ],
   "source": [
    "phone_number = 42343423\n",
    "\n",
    "print(phone_number)"
   ]
  },
  {
   "cell_type": "code",
   "execution_count": 2,
   "id": "defe4526",
   "metadata": {},
   "outputs": [
    {
     "name": "stdout",
     "output_type": "stream",
     "text": [
      "Phitron\n"
     ]
    }
   ],
   "source": [
    "name = \"Phitron\"\n",
    "print(name)"
   ]
  },
  {
   "cell_type": "code",
   "execution_count": 5,
   "id": "d10c6f49",
   "metadata": {},
   "outputs": [
    {
     "name": "stdout",
     "output_type": "stream",
     "text": [
      "<class 'int'> <class 'float'> <class 'str'> <class 'bool'>\n",
      "<class 'float'>\n"
     ]
    }
   ],
   "source": [
    "age = 30\n",
    "height = 4.5\n",
    "name = \"Akash\"\n",
    "is_passed = True\n",
    "\n",
    "print(type(age),type(height),type(name),type(is_passed))\n",
    "\n",
    "age = 39.4\n",
    "print(type(age))\n"
   ]
  },
  {
   "cell_type": "markdown",
   "id": "f102779a",
   "metadata": {},
   "source": [
    "Taking input in python"
   ]
  },
  {
   "cell_type": "code",
   "execution_count": 6,
   "id": "98218d55",
   "metadata": {},
   "outputs": [
    {
     "name": "stdout",
     "output_type": "stream",
     "text": [
      "Sadid\n"
     ]
    }
   ],
   "source": [
    "name = input(\"What is your name?\")\n",
    "print(name)"
   ]
  },
  {
   "cell_type": "code",
   "execution_count": 7,
   "id": "5560e73c",
   "metadata": {},
   "outputs": [
    {
     "name": "stdout",
     "output_type": "stream",
     "text": [
      "30 <class 'str'>\n"
     ]
    }
   ],
   "source": [
    "age = input(\"Age ? \")\n",
    "print(age,type(age))"
   ]
  },
  {
   "cell_type": "code",
   "execution_count": 8,
   "id": "56676375",
   "metadata": {},
   "outputs": [
    {
     "name": "stdout",
     "output_type": "stream",
     "text": [
      "45 <class 'int'>\n"
     ]
    }
   ],
   "source": [
    "age = input(\"Age ? \") # string hisebe input niche\n",
    "age  = int(age) # string ke amra int a convert corlam\n",
    "print(age,type(age))"
   ]
  },
  {
   "cell_type": "code",
   "execution_count": 10,
   "id": "91bd87af",
   "metadata": {},
   "outputs": [
    {
     "name": "stdout",
     "output_type": "stream",
     "text": [
      "434.0 <class 'float'>\n",
      "434.2\n"
     ]
    }
   ],
   "source": [
    "height = float(input(\"Height ? \"))\n",
    "print(height,type(height))\n",
    "\n",
    "\n",
    "height  = height + 0.2\n",
    "print(height)"
   ]
  },
  {
   "cell_type": "code",
   "execution_count": null,
   "id": "426061e6",
   "metadata": {},
   "outputs": [
    {
     "name": "stdout",
     "output_type": "stream",
     "text": [
      "13 7 30 3.33 1\n"
     ]
    }
   ],
   "source": [
    "# Operators\n",
    "x = 10; y=3\n",
    "\n",
    "sum = x+y\n",
    "sub = x-y\n",
    "mul = x*y\n",
    "div = round(x/y,2)\n",
    "\n",
    "\n",
    "rem = x % y\n",
    "print(sum,sub,mul,div,rem)"
   ]
  },
  {
   "cell_type": "code",
   "execution_count": 13,
   "id": "242b7cf9",
   "metadata": {},
   "outputs": [
    {
     "name": "stdout",
     "output_type": "stream",
     "text": [
      "True True\n"
     ]
    }
   ],
   "source": [
    "x = 10; y=3\n",
    "\n",
    "\n",
    "grater_than = x > y\n",
    "greater_than_or_equal = 20 >=20\n",
    "print(grater_than,greater_than_or_equal)"
   ]
  },
  {
   "cell_type": "code",
   "execution_count": 17,
   "id": "7d746052",
   "metadata": {},
   "outputs": [
    {
     "name": "stdout",
     "output_type": "stream",
     "text": [
      "False True\n",
      "True\n",
      "True\n"
     ]
    }
   ],
   "source": [
    "x = 10; y=3\n",
    "\n",
    "\n",
    "less_than = x < y\n",
    "less_than_or_equal = 20 <=20\n",
    "print(less_than,greater_than_or_equal)\n",
    "\n",
    "\n",
    "\n",
    "\n",
    "equal = x==10\n",
    "print(equal)\n",
    "\n",
    "\n",
    "not_equal = x!=y\n",
    "print(not_equal)"
   ]
  },
  {
   "cell_type": "markdown",
   "id": "edd7b894",
   "metadata": {},
   "source": [
    "Logical Operator"
   ]
  },
  {
   "cell_type": "code",
   "execution_count": 20,
   "id": "db240917",
   "metadata": {},
   "outputs": [
    {
     "name": "stdout",
     "output_type": "stream",
     "text": [
      "True\n"
     ]
    }
   ],
   "source": [
    "x = 10;y=5;z=3\n",
    "\n",
    "result = (x>y) and (x > z)\n",
    "print(result)"
   ]
  },
  {
   "cell_type": "code",
   "execution_count": 21,
   "id": "065e3cdd",
   "metadata": {},
   "outputs": [
    {
     "name": "stdout",
     "output_type": "stream",
     "text": [
      "False\n"
     ]
    }
   ],
   "source": [
    "x = 10;y=5;z=15\n",
    "\n",
    "result = (x>y) and (x > z)\n",
    "print(result)"
   ]
  },
  {
   "cell_type": "code",
   "execution_count": 22,
   "id": "0543135c",
   "metadata": {},
   "outputs": [
    {
     "name": "stdout",
     "output_type": "stream",
     "text": [
      "True\n"
     ]
    }
   ],
   "source": [
    "x = 10;y=5;z=15\n",
    "\n",
    "result = (x>y) or (x > z)\n",
    "print(result)"
   ]
  },
  {
   "cell_type": "code",
   "execution_count": 23,
   "id": "99e143de",
   "metadata": {},
   "outputs": [
    {
     "name": "stdout",
     "output_type": "stream",
     "text": [
      "False\n"
     ]
    }
   ],
   "source": [
    "x = 10;y=20;z=15\n",
    "\n",
    "result = (x>y) or (x > z)\n",
    "print(result)"
   ]
  },
  {
   "cell_type": "markdown",
   "id": "0a2c82a5",
   "metadata": {},
   "source": [
    "# Precedence and Associativity"
   ]
  },
  {
   "cell_type": "code",
   "execution_count": 26,
   "id": "1bb83757",
   "metadata": {},
   "outputs": [
    {
     "name": "stdout",
     "output_type": "stream",
     "text": [
      "0.0\n"
     ]
    }
   ],
   "source": [
    "eq = (10 + 10)/2- 5*2\n",
    "print(eq)\n"
   ]
  },
  {
   "cell_type": "code",
   "execution_count": 29,
   "id": "040ea7e3",
   "metadata": {},
   "outputs": [
    {
     "name": "stdout",
     "output_type": "stream",
     "text": [
      "6\n"
     ]
    }
   ],
   "source": [
    "# Problem solving \n",
    "\n",
    "# Given two numbers N and M. Print the summation of their last digits.\n",
    "\n",
    "\n",
    "# x  = int(input())\n",
    "# y = int(input())\n",
    "\n",
    "# last_digits_x = x%10\n",
    "# last_digits_y = y%10\n",
    "\n",
    "# sum = last_digits_x + last_digits_y\n",
    "\n",
    "# print(sum)\n",
    "\n",
    "\n",
    "inp = input()\n",
    "\n",
    "numbers = inp.split()\n",
    "x = int(numbers[0])\n",
    "y = int(numbers[1])\n",
    "\n",
    "last_digits_x = x%10\n",
    "last_digits_y = y%10\n",
    "\n",
    "sum = last_digits_x + last_digits_y\n",
    "\n",
    "print(sum)\n",
    "\n"
   ]
  },
  {
   "cell_type": "code",
   "execution_count": null,
   "id": "c5d646f4",
   "metadata": {},
   "outputs": [
    {
     "name": "stdout",
     "output_type": "stream",
     "text": [
      "3\n"
     ]
    }
   ],
   "source": [
    "print(7//2)\n",
    "print(7/2)"
   ]
  }
 ],
 "metadata": {
  "kernelspec": {
   "display_name": "room",
   "language": "python",
   "name": "python3"
  },
  "language_info": {
   "codemirror_mode": {
    "name": "ipython",
    "version": 3
   },
   "file_extension": ".py",
   "mimetype": "text/x-python",
   "name": "python",
   "nbconvert_exporter": "python",
   "pygments_lexer": "ipython3",
   "version": "3.12.3"
  }
 },
 "nbformat": 4,
 "nbformat_minor": 5
}
