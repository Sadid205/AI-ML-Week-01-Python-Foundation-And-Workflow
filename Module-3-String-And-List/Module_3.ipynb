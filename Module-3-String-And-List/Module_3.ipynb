{
 "cells": [
  {
   "cell_type": "code",
   "execution_count": 3,
   "id": "9e6fc1dd-8c0f-4f1b-9495-bd69b08e932f",
   "metadata": {},
   "outputs": [
    {
     "name": "stdout",
     "output_type": "stream",
     "text": [
      "What is your name?\n",
      "<class 'str'>\n"
     ]
    }
   ],
   "source": [
    "prompt = \"What is your name?\"\n",
    "print(prompt)\n",
    "print(type(prompt))"
   ]
  },
  {
   "cell_type": "code",
   "execution_count": 5,
   "id": "3b641ca6-6986-4b74-9d66-ebe195e00570",
   "metadata": {},
   "outputs": [
    {
     "name": "stdout",
     "output_type": "stream",
     "text": [
      " \n",
      "tell me about yourself?\n",
      "What are the issuees you've been facing while learning to code ? \n",
      "Hou are yu tackling them? \n",
      "\n"
     ]
    }
   ],
   "source": [
    "message = \"\"\" \n",
    "tell me about yourself?\n",
    "What are the issuees you've been facing while learning to code ? \n",
    "Hou are yu tackling them? \n",
    "\"\"\"\n",
    "print(message)"
   ]
  },
  {
   "cell_type": "markdown",
   "id": "e5e4b527-7266-4638-aa0c-f7731328b430",
   "metadata": {},
   "source": [
    "Indexing and slicing"
   ]
  },
  {
   "cell_type": "code",
   "execution_count": 6,
   "id": "07346804-871e-49fa-aba5-cc26a88d8e79",
   "metadata": {},
   "outputs": [
    {
     "name": "stdout",
     "output_type": "stream",
     "text": [
      "h\n"
     ]
    }
   ],
   "source": [
    "string = \"hello world\"\n",
    "print(string[0])"
   ]
  },
  {
   "cell_type": "code",
   "execution_count": 10,
   "id": "2a176ae3-9b98-408a-8282-773325f642d1",
   "metadata": {},
   "outputs": [
    {
     "name": "stdout",
     "output_type": "stream",
     "text": [
      " \n",
      "tell me about yourself?\n"
     ]
    }
   ],
   "source": [
    "first_message = message[0:25]\n",
    "print(first_message)"
   ]
  },
  {
   "cell_type": "code",
   "execution_count": 11,
   "id": "44adb056-5a16-4f21-9e20-f2e4bcc1e969",
   "metadata": {},
   "outputs": [
    {
     "name": "stdout",
     "output_type": "stream",
     "text": [
      "?\n",
      "f\n",
      "l\n",
      "e\n",
      "s\n"
     ]
    }
   ],
   "source": [
    "print(first_message[-1])\n",
    "print(first_message[-2])\n",
    "print(first_message[-3])\n",
    "print(first_message[-4])\n",
    "print(first_message[-5])"
   ]
  },
  {
   "cell_type": "markdown",
   "id": "5cbb67f7-ff3a-48b7-aaa5-6ace90a976ab",
   "metadata": {},
   "source": [
    "## String Methods"
   ]
  },
  {
   "cell_type": "code",
   "execution_count": 33,
   "id": "0e3b81db-f26e-4841-8dfb-6fa6e71d70fb",
   "metadata": {},
   "outputs": [
    {
     "name": "stdout",
     "output_type": "stream",
     "text": [
      "welcome to phitron ml course, phitron ml , hello ml\n",
      "51\n"
     ]
    }
   ],
   "source": [
    "string = \"Welcome to Phitron ML Course, Phitron ML , Hello ML\"\n",
    "\n",
    "processed_string = string.lower()\n",
    "print(processed_string)\n",
    "#Length \n",
    "print(len(string))"
   ]
  },
  {
   "cell_type": "code",
   "execution_count": 34,
   "id": "a2a13057-b8ea-44ca-99d6-a835727cea5b",
   "metadata": {},
   "outputs": [
    {
     "name": "stdout",
     "output_type": "stream",
     "text": [
      "True\n",
      "30\n",
      "2\n",
      "Welcome to Phitron AI/ML Course, Phitron AI/ML , Hello AI/ML\n"
     ]
    }
   ],
   "source": [
    "# wsord ache kina -- bool\n",
    "print(\"phitron\" in processed_string)\n",
    "\n",
    "\n",
    "#shurur dik theke kon index theke substring ta shuru hyeche . \n",
    "\n",
    "# index = processed_string.find(\"phitron\")\n",
    "#shurur dik theke kon index theke substring ta shuru hyeche . \n",
    "\n",
    "shesh_index = processed_string.rfind(\"phitron\")\n",
    "print(shesh_index)\n",
    "\n",
    "## Substring koibar acche \n",
    "\n",
    "count = processed_string.count(\"phitron\")\n",
    "\n",
    "print(count)\n",
    "\n",
    "\n",
    "## Replace a substring \n",
    "new_string = string.replace(\"ML\",\"AI/ML\")\n",
    "print(new_string)\n"
   ]
  },
  {
   "cell_type": "markdown",
   "id": "6f15c02d-c0b4-4647-ac7f-7062ee0aa5ef",
   "metadata": {},
   "source": [
    "## Splitting,Joining,Formatting String"
   ]
  },
  {
   "cell_type": "code",
   "execution_count": 42,
   "id": "d8f98161-0aa3-49da-ac7d-654e7bb49e56",
   "metadata": {},
   "outputs": [
    {
     "name": "stdout",
     "output_type": "stream",
     "text": [
      "['what', 'is', 'Phitron', '?']\n",
      "what-is-Phitron-?\n",
      "<class 'list'> <class 'str'>\n"
     ]
    }
   ],
   "source": [
    "prompt = \"what is Phitron ? \"\n",
    "tokens = prompt.split()\n",
    "\n",
    "print(tokens)\n",
    "\n",
    "sentence = \"-\".join(tokens)\n",
    "print(sentence)\n",
    "\n",
    "print(type(tokens),type(sentence))"
   ]
  },
  {
   "cell_type": "markdown",
   "id": "d456f93f-d701-458a-bc96-80c8393d1bfd",
   "metadata": {},
   "source": [
    "# Formatted string"
   ]
  },
  {
   "cell_type": "code",
   "execution_count": 52,
   "id": "726d9b8b-7cbc-4eba-b42b-25e9f8efccb6",
   "metadata": {},
   "outputs": [
    {
     "name": "stdout",
     "output_type": "stream",
     "text": [
      "<class 'str'>\n",
      "the model accuracy is 83.33%\n"
     ]
    }
   ],
   "source": [
    "name = \"Adil\"\n",
    "age = 23\n",
    "height = 5.11\n",
    "\n",
    "info = f\"His name is {name.upper()}.His is {age} years old. He is {height:.2} feet tall.\\n\"\n",
    "print(type(info))\n",
    "\n",
    "\n",
    "model_accuracy = 0.83333\n",
    "print(f\"the model accuracy is {model_accuracy:.2%}\")\n"
   ]
  },
  {
   "cell_type": "code",
   "execution_count": null,
   "id": "2d8d2994-49d8-43b2-9f6d-53ccca52efb8",
   "metadata": {},
   "outputs": [],
   "source": []
  }
 ],
 "metadata": {
  "kernelspec": {
   "display_name": "Python [conda env:base] *",
   "language": "python",
   "name": "conda-base-py"
  },
  "language_info": {
   "codemirror_mode": {
    "name": "ipython",
    "version": 3
   },
   "file_extension": ".py",
   "mimetype": "text/x-python",
   "name": "python",
   "nbconvert_exporter": "python",
   "pygments_lexer": "ipython3",
   "version": "3.13.5"
  }
 },
 "nbformat": 4,
 "nbformat_minor": 5
}
