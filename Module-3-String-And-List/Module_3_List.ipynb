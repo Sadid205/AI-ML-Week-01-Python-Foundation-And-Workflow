{
 "cells": [
  {
   "cell_type": "code",
   "execution_count": 29,
   "id": "5237a667-ddb6-49a0-a969-dd2a900b77d4",
   "metadata": {},
   "outputs": [
    {
     "name": "stdout",
     "output_type": "stream",
     "text": [
      "40\n",
      "[10, 2.34, 'apple']\n",
      "<class 'str'>\n"
     ]
    }
   ],
   "source": [
    "##  Declaration\n",
    "numbers = [100,20,30,40,50] # int\n",
    "float_numbers = [10.20,3.15,2.4,5.6] # float\n",
    "fruits = ['apple','orange','lichi'] # str\n",
    "\n",
    "mix = [10,2.34,\"apple\"] # mix\n",
    "\n",
    "list_er_moddhe_list = [[100,20,40],[12,45,67],[34,65,89]]\n",
    "print(list_er_moddhe_list[0][2])\n",
    "\n",
    "print(mix)\n",
    "print(type(fruits[0]))"
   ]
  },
  {
   "cell_type": "code",
   "execution_count": 20,
   "id": "81b4802e-5b92-41e5-8c60-9ccfa4d9913d",
   "metadata": {},
   "outputs": [
    {
     "name": "stdout",
     "output_type": "stream",
     "text": [
      "30\n",
      "90\n",
      "[100, 20, 90]\n"
     ]
    }
   ],
   "source": [
    "## access\n",
    "\n",
    "print(numbers[2])\n",
    "numbers[2] = 90\n",
    "\n",
    "print(numbers[2])\n",
    "\n",
    "\n",
    "new_list = numbers[0:3]\n",
    "print(new_list)"
   ]
  },
  {
   "cell_type": "code",
   "execution_count": 23,
   "id": "76ca576c-ca4e-455d-92f2-7f7e65441652",
   "metadata": {},
   "outputs": [
    {
     "name": "stdout",
     "output_type": "stream",
     "text": [
      "[100, 20, 90]\n",
      "[20, 90]\n"
     ]
    }
   ],
   "source": [
    "## modification\n",
    "\n",
    "## adding a item\n",
    "\n",
    "# numbers.append(80)\n",
    "# print(numbers)\n",
    "\n",
    "\n",
    "## Insert at any position\n",
    "# numbers.insert(0,45)\n",
    "# print(numbers)\n",
    "\n",
    "\n",
    "\n",
    "## deleting the last value\n",
    "\n",
    "# numbers.pop()\n",
    "print(numbers)\n",
    "\n",
    "# deleting a specific value\n",
    "numbers.remove(100)\n",
    "print(numbers)\n",
    "\n"
   ]
  },
  {
   "cell_type": "code",
   "execution_count": 34,
   "id": "e75d1609-d3ff-4ca5-a2ec-5e87bf032d03",
   "metadata": {},
   "outputs": [
    {
     "name": "stdout",
     "output_type": "stream",
     "text": [
      "[20, 30, 40, 50, 100]\n",
      "[100, 50, 40, 30, 20]\n"
     ]
    }
   ],
   "source": [
    "numbers.sort()\n",
    "print(numbers)\n",
    "numbers.reverse()\n",
    "print(numbers)"
   ]
  },
  {
   "cell_type": "code",
   "execution_count": 33,
   "id": "5c3cc7ee-e7bd-43dd-864b-05caa2cd144f",
   "metadata": {},
   "outputs": [
    {
     "name": "stdout",
     "output_type": "stream",
     "text": [
      "[100, 50, 40, 30, 20]\n"
     ]
    }
   ],
   "source": [
    "numbers.sort(reverse=True)\n",
    "print(numbers)"
   ]
  },
  {
   "cell_type": "markdown",
   "id": "89361d95-cf91-45f0-90c5-4efd56c6b4e5",
   "metadata": {},
   "source": [
    "## Stack as List"
   ]
  },
  {
   "cell_type": "code",
   "execution_count": 43,
   "id": "f3096d13-2115-477b-a4fc-fec954595632",
   "metadata": {},
   "outputs": [
    {
     "name": "stdout",
     "output_type": "stream",
     "text": [
      "0\n",
      "<class 'list'>\n",
      "5\n",
      "4\n",
      "3\n",
      "top element : 2\n"
     ]
    }
   ],
   "source": [
    "stack = []\n",
    "print(len(stack))\n",
    "print(type(stack))\n",
    "\n",
    "# stack e push\n",
    "stack.append(1)\n",
    "stack.append(2)\n",
    "stack.append(3)\n",
    "stack.append(4)\n",
    "stack.append(5)\n",
    "\n",
    "# getting the top element\n",
    "print(stack.pop())\n",
    "print(stack.pop())\n",
    "print(stack.pop())\n",
    "\n",
    "# top element\n",
    "print(f\"top element : {stack[-1]}\")"
   ]
  },
  {
   "cell_type": "markdown",
   "id": "76a8b6f4-67ee-4707-8a14-9885991319a2",
   "metadata": {},
   "source": [
    "## List as Queue"
   ]
  },
  {
   "cell_type": "code",
   "execution_count": 42,
   "id": "0ab9841d-aa26-4ce4-9467-6e89cdf7c845",
   "metadata": {},
   "outputs": [
    {
     "name": "stdout",
     "output_type": "stream",
     "text": [
      "1\n",
      "Front e 2\n"
     ]
    }
   ],
   "source": [
    "queue = []\n",
    "\n",
    "#insertion\n",
    "queue.append(1)\n",
    "queue.append(2)\n",
    "queue.append(3)\n",
    "queue.append(4)\n",
    "queue.append(5)\n",
    "\n",
    "#remove\n",
    "print(queue.pop(0))\n",
    "\n",
    "# accessing the front element\n",
    "print(f\"Front e {queue[0]}\")\n"
   ]
  },
  {
   "cell_type": "markdown",
   "id": "9a132ebd-3553-48c8-81c5-c4644c9fac32",
   "metadata": {},
   "source": [
    "## List Comprehention"
   ]
  },
  {
   "cell_type": "code",
   "execution_count": 51,
   "id": "4de7c7c3-3138-46e4-94cf-ff29ccb2ce91",
   "metadata": {},
   "outputs": [
    {
     "name": "stdout",
     "output_type": "stream",
     "text": [
      "[4, 8, 12, 16, 20, 24, 28, 32, 36, 40, 44, 48, 52, 56, 60, 64, 68, 72, 76, 80, 84, 88, 92, 96, 100, 104, 108, 112, 116, 120, 124, 128, 132, 136, 140, 144, 148, 152, 156, 160, 164, 168, 172, 176, 180, 184, 188, 192, 196, 200]\n"
     ]
    }
   ],
   "source": [
    "even = []\n",
    "# for i in range(101):\n",
    "#     if i%2==0:\n",
    "#         even.append(i)\n",
    "# print(even)\n",
    "\n",
    "random_list = [x*2 for x in range(1,101) if x%2==0]\n",
    "print(random_list)\n",
    "        "
   ]
  },
  {
   "cell_type": "code",
   "execution_count": 55,
   "id": "19bb4a16-ef3b-4415-9501-9ce5ce82405e",
   "metadata": {},
   "outputs": [
    {
     "name": "stdout",
     "output_type": "stream",
     "text": [
      "['apple', 'orange', 'lichi']\n"
     ]
    }
   ],
   "source": [
    "fruits = ['apple','orange','lichi']\n",
    "upper_fruits = [fruit.lower() for fruit in fruits]\n",
    "# for fruit in fruits:\n",
    "#     upper_fruits.append(fruit.upper())\n",
    "print(upper_fruits)\n"
   ]
  },
  {
   "cell_type": "code",
   "execution_count": 58,
   "id": "56d3a279-b042-4a6f-8f25-b95b3a8cf4c4",
   "metadata": {},
   "outputs": [
    {
     "name": "stdout",
     "output_type": "stream",
     "text": [
      "loo\n"
     ]
    }
   ],
   "source": [
    "s = \"HelloWorld\"\n",
    "print(s[2:8:2])"
   ]
  },
  {
   "cell_type": "code",
   "execution_count": 59,
   "id": "9251bd92-4e37-47bd-9622-4d349bdb7022",
   "metadata": {},
   "outputs": [
    {
     "name": "stdout",
     "output_type": "stream",
     "text": [
      "2\n"
     ]
    }
   ],
   "source": [
    "text = \"banana bandana\"\n",
    "print(text.count(\"ana\"))"
   ]
  },
  {
   "cell_type": "code",
   "execution_count": 61,
   "id": "2c648629-fb97-4828-b518-04b246cc32a3",
   "metadata": {},
   "outputs": [
    {
     "name": "stdout",
     "output_type": "stream",
     "text": [
      "blue-green-red\n"
     ]
    }
   ],
   "source": [
    "msg = \"red,green,blue\"\n",
    "colors = msg.split(\",\")\n",
    "print(\"-\".join(colors[::-1]))"
   ]
  },
  {
   "cell_type": "code",
   "execution_count": 63,
   "id": "c1301c80-00f2-447a-8f31-e0f8b2b50bd6",
   "metadata": {},
   "outputs": [
    {
     "name": "stdout",
     "output_type": "stream",
     "text": [
      "[2, 4, 12, 8, 10]\n"
     ]
    }
   ],
   "source": [
    "nums = [2,4,6,8,10]\n",
    "nums[2] = nums[2] * nums[0]\n",
    "print(nums)"
   ]
  },
  {
   "cell_type": "code",
   "execution_count": 65,
   "id": "fc7554d1-cb85-4772-a1d9-0bd5680aab3e",
   "metadata": {},
   "outputs": [
    {
     "name": "stdout",
     "output_type": "stream",
     "text": [
      "['b', 'c', 'd']\n",
      "['d', 'b']\n"
     ]
    }
   ],
   "source": [
    "letters = [\"a\",\"b\",\"c\",\"d\",\"e\"]\n",
    "print(letters[1:4])\n",
    "print(letters[1:4][::-2])"
   ]
  },
  {
   "cell_type": "code",
   "execution_count": null,
   "id": "0b8b7e32-b646-4866-b876-5f49043d24e2",
   "metadata": {},
   "outputs": [],
   "source": []
  }
 ],
 "metadata": {
  "kernelspec": {
   "display_name": "Python [conda env:base] *",
   "language": "python",
   "name": "conda-base-py"
  },
  "language_info": {
   "codemirror_mode": {
    "name": "ipython",
    "version": 3
   },
   "file_extension": ".py",
   "mimetype": "text/x-python",
   "name": "python",
   "nbconvert_exporter": "python",
   "pygments_lexer": "ipython3",
   "version": "3.13.5"
  }
 },
 "nbformat": 4,
 "nbformat_minor": 5
}
